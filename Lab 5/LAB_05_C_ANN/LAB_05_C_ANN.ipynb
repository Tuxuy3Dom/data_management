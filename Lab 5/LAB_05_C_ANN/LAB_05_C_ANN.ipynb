{
 "cells": [
  {
   "cell_type": "code",
   "execution_count": 1,
   "id": "58078cd9",
   "metadata": {},
   "outputs": [
    {
     "data": {
      "text/html": [
       "<div>\n",
       "<style scoped>\n",
       "    .dataframe tbody tr th:only-of-type {\n",
       "        vertical-align: middle;\n",
       "    }\n",
       "\n",
       "    .dataframe tbody tr th {\n",
       "        vertical-align: top;\n",
       "    }\n",
       "\n",
       "    .dataframe thead th {\n",
       "        text-align: right;\n",
       "    }\n",
       "</style>\n",
       "<table border=\"1\" class=\"dataframe\">\n",
       "  <thead>\n",
       "    <tr style=\"text-align: right;\">\n",
       "      <th></th>\n",
       "      <th>RowNumber</th>\n",
       "      <th>CustomerId</th>\n",
       "      <th>Surname</th>\n",
       "      <th>CreditScore</th>\n",
       "      <th>Geography</th>\n",
       "      <th>Gender</th>\n",
       "      <th>Age</th>\n",
       "      <th>Tenure</th>\n",
       "      <th>Balance</th>\n",
       "      <th>NumOfProducts</th>\n",
       "      <th>HasCrCard</th>\n",
       "      <th>IsActiveMember</th>\n",
       "      <th>EstimatedSalary</th>\n",
       "      <th>Exited</th>\n",
       "    </tr>\n",
       "  </thead>\n",
       "  <tbody>\n",
       "    <tr>\n",
       "      <th>0</th>\n",
       "      <td>1</td>\n",
       "      <td>15634602</td>\n",
       "      <td>Hargrave</td>\n",
       "      <td>619</td>\n",
       "      <td>France</td>\n",
       "      <td>Female</td>\n",
       "      <td>42</td>\n",
       "      <td>2</td>\n",
       "      <td>0.00</td>\n",
       "      <td>1</td>\n",
       "      <td>1</td>\n",
       "      <td>1</td>\n",
       "      <td>101348.88</td>\n",
       "      <td>1</td>\n",
       "    </tr>\n",
       "    <tr>\n",
       "      <th>1</th>\n",
       "      <td>2</td>\n",
       "      <td>15647311</td>\n",
       "      <td>Hill</td>\n",
       "      <td>608</td>\n",
       "      <td>Spain</td>\n",
       "      <td>Female</td>\n",
       "      <td>41</td>\n",
       "      <td>1</td>\n",
       "      <td>83807.86</td>\n",
       "      <td>1</td>\n",
       "      <td>0</td>\n",
       "      <td>1</td>\n",
       "      <td>112542.58</td>\n",
       "      <td>0</td>\n",
       "    </tr>\n",
       "    <tr>\n",
       "      <th>2</th>\n",
       "      <td>3</td>\n",
       "      <td>15619304</td>\n",
       "      <td>Onio</td>\n",
       "      <td>502</td>\n",
       "      <td>France</td>\n",
       "      <td>Female</td>\n",
       "      <td>42</td>\n",
       "      <td>8</td>\n",
       "      <td>159660.80</td>\n",
       "      <td>3</td>\n",
       "      <td>1</td>\n",
       "      <td>0</td>\n",
       "      <td>113931.57</td>\n",
       "      <td>1</td>\n",
       "    </tr>\n",
       "    <tr>\n",
       "      <th>3</th>\n",
       "      <td>4</td>\n",
       "      <td>15701354</td>\n",
       "      <td>Boni</td>\n",
       "      <td>699</td>\n",
       "      <td>France</td>\n",
       "      <td>Female</td>\n",
       "      <td>39</td>\n",
       "      <td>1</td>\n",
       "      <td>0.00</td>\n",
       "      <td>2</td>\n",
       "      <td>0</td>\n",
       "      <td>0</td>\n",
       "      <td>93826.63</td>\n",
       "      <td>0</td>\n",
       "    </tr>\n",
       "    <tr>\n",
       "      <th>4</th>\n",
       "      <td>5</td>\n",
       "      <td>15737888</td>\n",
       "      <td>Mitchell</td>\n",
       "      <td>850</td>\n",
       "      <td>Spain</td>\n",
       "      <td>Female</td>\n",
       "      <td>43</td>\n",
       "      <td>2</td>\n",
       "      <td>125510.82</td>\n",
       "      <td>1</td>\n",
       "      <td>1</td>\n",
       "      <td>1</td>\n",
       "      <td>79084.10</td>\n",
       "      <td>0</td>\n",
       "    </tr>\n",
       "  </tbody>\n",
       "</table>\n",
       "</div>"
      ],
      "text/plain": [
       "   RowNumber  CustomerId   Surname  CreditScore Geography  Gender  Age  \\\n",
       "0          1    15634602  Hargrave          619    France  Female   42   \n",
       "1          2    15647311      Hill          608     Spain  Female   41   \n",
       "2          3    15619304      Onio          502    France  Female   42   \n",
       "3          4    15701354      Boni          699    France  Female   39   \n",
       "4          5    15737888  Mitchell          850     Spain  Female   43   \n",
       "\n",
       "   Tenure    Balance  NumOfProducts  HasCrCard  IsActiveMember  \\\n",
       "0       2       0.00              1          1               1   \n",
       "1       1   83807.86              1          0               1   \n",
       "2       8  159660.80              3          1               0   \n",
       "3       1       0.00              2          0               0   \n",
       "4       2  125510.82              1          1               1   \n",
       "\n",
       "   EstimatedSalary  Exited  \n",
       "0        101348.88       1  \n",
       "1        112542.58       0  \n",
       "2        113931.57       1  \n",
       "3         93826.63       0  \n",
       "4         79084.10       0  "
      ]
     },
     "execution_count": 1,
     "metadata": {},
     "output_type": "execute_result"
    }
   ],
   "source": [
    "import numpy as np\n",
    "import pandas as pd \n",
    "from sklearn.impute import SimpleImputer\n",
    "\n",
    "\n",
    "data = pd.read_csv('DataSet_for_ANN.csv')\n",
    "dataset = data\n",
    "dataset[0:5]"
   ]
  },
  {
   "cell_type": "code",
   "execution_count": 2,
   "id": "c323cc4e",
   "metadata": {},
   "outputs": [
    {
     "data": {
      "text/plain": [
       "(array([[619, 'France', 'Female', ..., 1, 1, 101348.88],\n",
       "        [608, 'Spain', 'Female', ..., 0, 1, 112542.58],\n",
       "        [502, 'France', 'Female', ..., 1, 0, 113931.57],\n",
       "        ...,\n",
       "        [709, 'France', 'Female', ..., 0, 1, 42085.58],\n",
       "        [772, 'Germany', 'Male', ..., 1, 0, 92888.52],\n",
       "        [792, 'France', 'Female', ..., 1, 0, 38190.78]], dtype=object),\n",
       " array([1, 0, 1, ..., 1, 1, 0], dtype=int64))"
      ]
     },
     "execution_count": 2,
     "metadata": {},
     "output_type": "execute_result"
    }
   ],
   "source": [
    "X = dataset.iloc[:, 3:-1].values\n",
    "y = dataset.iloc[:, -1].values\n",
    "X, y"
   ]
  },
  {
   "cell_type": "code",
   "execution_count": 3,
   "id": "6ccd48ae",
   "metadata": {},
   "outputs": [],
   "source": [
    "import tensorflow as tf"
   ]
  },
  {
   "cell_type": "code",
   "execution_count": 4,
   "id": "ddeee354",
   "metadata": {},
   "outputs": [],
   "source": [
    "# Import label encoder\n",
    "from sklearn.preprocessing import LabelEncoder"
   ]
  },
  {
   "cell_type": "code",
   "execution_count": 5,
   "id": "077ce948",
   "metadata": {},
   "outputs": [],
   "source": [
    "le = LabelEncoder()"
   ]
  },
  {
   "cell_type": "code",
   "execution_count": 6,
   "id": "3b9c21b9",
   "metadata": {},
   "outputs": [],
   "source": [
    "X[:, 2] = le.fit_transform(X[:,2])"
   ]
  },
  {
   "cell_type": "code",
   "execution_count": 7,
   "id": "f5d897eb",
   "metadata": {},
   "outputs": [],
   "source": [
    "from sklearn.preprocessing import StandardScaler"
   ]
  },
  {
   "cell_type": "code",
   "execution_count": 8,
   "id": "32ebb935",
   "metadata": {},
   "outputs": [],
   "source": [
    "sc = StandardScaler()"
   ]
  },
  {
   "cell_type": "code",
   "execution_count": 9,
   "id": "0903d8b4",
   "metadata": {},
   "outputs": [],
   "source": [
    "from sklearn.compose import ColumnTransformer\n",
    "from sklearn.preprocessing import OneHotEncoder\n",
    "ct = ColumnTransformer(transformers=[('encoder', OneHotEncoder(),[1])], remainder='passthrough')\n",
    "X = np.array(ct.fit_transform(X))"
   ]
  },
  {
   "cell_type": "code",
   "execution_count": 10,
   "id": "4cbdbadc",
   "metadata": {},
   "outputs": [],
   "source": [
    "from sklearn.model_selection import train_test_split\n",
    "X_train, X_test, y_train, y_test = train_test_split(X, y, test_size=0.2, random_state=1)"
   ]
  },
  {
   "cell_type": "code",
   "execution_count": 11,
   "id": "78964942",
   "metadata": {},
   "outputs": [],
   "source": [
    "X_train = sc.fit_transform(X_train)\n",
    "X_test = sc.transform(X_test)"
   ]
  },
  {
   "cell_type": "code",
   "execution_count": 12,
   "id": "ea60aab1",
   "metadata": {},
   "outputs": [],
   "source": [
    "ann_model = tf.keras.models.Sequential()"
   ]
  },
  {
   "cell_type": "code",
   "execution_count": 13,
   "id": "b2e4d3a8",
   "metadata": {},
   "outputs": [],
   "source": [
    "ann_model.add(\n",
    "    tf.keras.layers.Dense(\n",
    "       units=6, activation='relu' \n",
    "    )\n",
    ")"
   ]
  },
  {
   "cell_type": "code",
   "execution_count": 14,
   "id": "ae0edcf4",
   "metadata": {},
   "outputs": [],
   "source": [
    "ann_model.add(\n",
    "    tf.keras.layers.Dense(\n",
    "       units=6, activation='relu' \n",
    "    )\n",
    ")"
   ]
  },
  {
   "cell_type": "code",
   "execution_count": 15,
   "id": "bab608d3",
   "metadata": {},
   "outputs": [],
   "source": [
    "ann_model.add(\n",
    "    tf.keras.layers.Dense(\n",
    "       units=1, activation='sigmoid' \n",
    "    )\n",
    ")"
   ]
  },
  {
   "cell_type": "code",
   "execution_count": 20,
   "id": "aa98077c",
   "metadata": {},
   "outputs": [],
   "source": [
    "ann_model.compile(\n",
    "    optimizer='adam', loss='binary_crossentropy', metrics=['accuracy']\n",
    ")"
   ]
  },
  {
   "cell_type": "code",
   "execution_count": 24,
   "id": "4ffc23c9",
   "metadata": {},
   "outputs": [
    {
     "name": "stdout",
     "output_type": "stream",
     "text": [
      "Epoch 1/100\n",
      "250/250 [==============================] - 0s 718us/step - loss: 0.3391 - accuracy: 0.8593\n",
      "Epoch 2/100\n",
      "250/250 [==============================] - 0s 744us/step - loss: 0.3387 - accuracy: 0.8595\n",
      "Epoch 3/100\n",
      "250/250 [==============================] - 0s 712us/step - loss: 0.3387 - accuracy: 0.8593\n",
      "Epoch 4/100\n",
      "250/250 [==============================] - 0s 724us/step - loss: 0.3385 - accuracy: 0.8600\n",
      "Epoch 5/100\n",
      "250/250 [==============================] - 0s 724us/step - loss: 0.3385 - accuracy: 0.8599\n",
      "Epoch 6/100\n",
      "250/250 [==============================] - 0s 655us/step - loss: 0.3388 - accuracy: 0.8594\n",
      "Epoch 7/100\n",
      "250/250 [==============================] - 0s 736us/step - loss: 0.3384 - accuracy: 0.8610\n",
      "Epoch 8/100\n",
      "250/250 [==============================] - 0s 736us/step - loss: 0.3378 - accuracy: 0.8612\n",
      "Epoch 9/100\n",
      "250/250 [==============================] - 0s 725us/step - loss: 0.3381 - accuracy: 0.8615\n",
      "Epoch 10/100\n",
      "250/250 [==============================] - 0s 668us/step - loss: 0.3382 - accuracy: 0.8610\n",
      "Epoch 11/100\n",
      "250/250 [==============================] - 0s 730us/step - loss: 0.3378 - accuracy: 0.8601\n",
      "Epoch 12/100\n",
      "250/250 [==============================] - 0s 660us/step - loss: 0.3377 - accuracy: 0.8596\n",
      "Epoch 13/100\n",
      "250/250 [==============================] - 0s 739us/step - loss: 0.3377 - accuracy: 0.8609\n",
      "Epoch 14/100\n",
      "250/250 [==============================] - 0s 731us/step - loss: 0.3377 - accuracy: 0.8594\n",
      "Epoch 15/100\n",
      "250/250 [==============================] - 0s 647us/step - loss: 0.3375 - accuracy: 0.8622\n",
      "Epoch 16/100\n",
      "250/250 [==============================] - 0s 669us/step - loss: 0.3374 - accuracy: 0.8589\n",
      "Epoch 17/100\n",
      "250/250 [==============================] - 0s 701us/step - loss: 0.3375 - accuracy: 0.8597\n",
      "Epoch 18/100\n",
      "250/250 [==============================] - 0s 673us/step - loss: 0.3376 - accuracy: 0.8609\n",
      "Epoch 19/100\n",
      "250/250 [==============================] - 0s 668us/step - loss: 0.3372 - accuracy: 0.8614\n",
      "Epoch 20/100\n",
      "250/250 [==============================] - 0s 805us/step - loss: 0.3371 - accuracy: 0.8599\n",
      "Epoch 21/100\n",
      "250/250 [==============================] - 0s 736us/step - loss: 0.3374 - accuracy: 0.8594\n",
      "Epoch 22/100\n",
      "250/250 [==============================] - 0s 740us/step - loss: 0.3372 - accuracy: 0.8601\n",
      "Epoch 23/100\n",
      "250/250 [==============================] - 0s 656us/step - loss: 0.3366 - accuracy: 0.8618\n",
      "Epoch 24/100\n",
      "250/250 [==============================] - 0s 681us/step - loss: 0.3364 - accuracy: 0.8621\n",
      "Epoch 25/100\n",
      "250/250 [==============================] - 0s 673us/step - loss: 0.3366 - accuracy: 0.8616\n",
      "Epoch 26/100\n",
      "250/250 [==============================] - 0s 732us/step - loss: 0.3368 - accuracy: 0.8601\n",
      "Epoch 27/100\n",
      "250/250 [==============================] - 0s 673us/step - loss: 0.3371 - accuracy: 0.8597\n",
      "Epoch 28/100\n",
      "250/250 [==============================] - 0s 732us/step - loss: 0.3364 - accuracy: 0.8601\n",
      "Epoch 29/100\n",
      "250/250 [==============================] - 0s 668us/step - loss: 0.3368 - accuracy: 0.8604\n",
      "Epoch 30/100\n",
      "250/250 [==============================] - 0s 745us/step - loss: 0.3362 - accuracy: 0.8615\n",
      "Epoch 31/100\n",
      "250/250 [==============================] - 0s 652us/step - loss: 0.3364 - accuracy: 0.8618\n",
      "Epoch 32/100\n",
      "250/250 [==============================] - 0s 739us/step - loss: 0.3363 - accuracy: 0.8634\n",
      "Epoch 33/100\n",
      "250/250 [==============================] - 0s 656us/step - loss: 0.3365 - accuracy: 0.8629\n",
      "Epoch 34/100\n",
      "250/250 [==============================] - 0s 685us/step - loss: 0.3361 - accuracy: 0.8608\n",
      "Epoch 35/100\n",
      "250/250 [==============================] - 0s 678us/step - loss: 0.3362 - accuracy: 0.8601\n",
      "Epoch 36/100\n",
      "250/250 [==============================] - 0s 676us/step - loss: 0.3364 - accuracy: 0.8624\n",
      "Epoch 37/100\n",
      "250/250 [==============================] - 0s 669us/step - loss: 0.3359 - accuracy: 0.8611\n",
      "Epoch 38/100\n",
      "250/250 [==============================] - 0s 739us/step - loss: 0.3362 - accuracy: 0.8597\n",
      "Epoch 39/100\n",
      "250/250 [==============================] - 0s 747us/step - loss: 0.3361 - accuracy: 0.8621\n",
      "Epoch 40/100\n",
      "250/250 [==============================] - 0s 742us/step - loss: 0.3368 - accuracy: 0.8622\n",
      "Epoch 41/100\n",
      "250/250 [==============================] - 0s 630us/step - loss: 0.3359 - accuracy: 0.8616\n",
      "Epoch 42/100\n",
      "250/250 [==============================] - 0s 676us/step - loss: 0.3363 - accuracy: 0.8610\n",
      "Epoch 43/100\n",
      "250/250 [==============================] - 0s 669us/step - loss: 0.3359 - accuracy: 0.8621\n",
      "Epoch 44/100\n",
      "250/250 [==============================] - 0s 734us/step - loss: 0.3358 - accuracy: 0.8631\n",
      "Epoch 45/100\n",
      "250/250 [==============================] - 0s 661us/step - loss: 0.3358 - accuracy: 0.8611\n",
      "Epoch 46/100\n",
      "250/250 [==============================] - 0s 803us/step - loss: 0.3357 - accuracy: 0.8630\n",
      "Epoch 47/100\n",
      "250/250 [==============================] - 0s 795us/step - loss: 0.3358 - accuracy: 0.8609\n",
      "Epoch 48/100\n",
      "250/250 [==============================] - 0s 736us/step - loss: 0.3355 - accuracy: 0.8627\n",
      "Epoch 49/100\n",
      "250/250 [==============================] - 0s 737us/step - loss: 0.3358 - accuracy: 0.8625\n",
      "Epoch 50/100\n",
      "250/250 [==============================] - 0s 677us/step - loss: 0.3361 - accuracy: 0.8618\n",
      "Epoch 51/100\n",
      "250/250 [==============================] - 0s 635us/step - loss: 0.3359 - accuracy: 0.8627\n",
      "Epoch 52/100\n",
      "250/250 [==============================] - 0s 669us/step - loss: 0.3358 - accuracy: 0.8620\n",
      "Epoch 53/100\n",
      "250/250 [==============================] - 0s 678us/step - loss: 0.3358 - accuracy: 0.8620\n",
      "Epoch 54/100\n",
      "250/250 [==============================] - 0s 741us/step - loss: 0.3356 - accuracy: 0.8626\n",
      "Epoch 55/100\n",
      "250/250 [==============================] - 0s 739us/step - loss: 0.3357 - accuracy: 0.8615\n",
      "Epoch 56/100\n",
      "250/250 [==============================] - 0s 748us/step - loss: 0.3355 - accuracy: 0.8633\n",
      "Epoch 57/100\n",
      "250/250 [==============================] - 0s 701us/step - loss: 0.3358 - accuracy: 0.8620\n",
      "Epoch 58/100\n",
      "250/250 [==============================] - 0s 735us/step - loss: 0.3357 - accuracy: 0.8624\n",
      "Epoch 59/100\n",
      "250/250 [==============================] - 0s 733us/step - loss: 0.3360 - accuracy: 0.8597\n",
      "Epoch 60/100\n",
      "250/250 [==============================] - 0s 670us/step - loss: 0.3356 - accuracy: 0.8620\n",
      "Epoch 61/100\n",
      "250/250 [==============================] - 0s 673us/step - loss: 0.3354 - accuracy: 0.8614\n",
      "Epoch 62/100\n",
      "250/250 [==============================] - 0s 671us/step - loss: 0.3354 - accuracy: 0.8636\n",
      "Epoch 63/100\n",
      "250/250 [==============================] - 0s 743us/step - loss: 0.3355 - accuracy: 0.8610\n",
      "Epoch 64/100\n",
      "250/250 [==============================] - 0s 649us/step - loss: 0.3354 - accuracy: 0.8630\n",
      "Epoch 65/100\n",
      "250/250 [==============================] - 0s 742us/step - loss: 0.3355 - accuracy: 0.8611\n",
      "Epoch 66/100\n",
      "250/250 [==============================] - 0s 664us/step - loss: 0.3358 - accuracy: 0.8622\n",
      "Epoch 67/100\n",
      "250/250 [==============================] - 0s 742us/step - loss: 0.3354 - accuracy: 0.8627\n",
      "Epoch 68/100\n",
      "250/250 [==============================] - 0s 672us/step - loss: 0.3361 - accuracy: 0.8640\n",
      "Epoch 69/100\n",
      "250/250 [==============================] - 0s 759us/step - loss: 0.3357 - accuracy: 0.8641\n",
      "Epoch 70/100\n",
      "250/250 [==============================] - 0s 699us/step - loss: 0.3354 - accuracy: 0.8634\n",
      "Epoch 71/100\n",
      "250/250 [==============================] - 0s 722us/step - loss: 0.3355 - accuracy: 0.8615\n",
      "Epoch 72/100\n",
      "250/250 [==============================] - 0s 715us/step - loss: 0.3358 - accuracy: 0.8620\n",
      "Epoch 73/100\n",
      "250/250 [==============================] - 0s 686us/step - loss: 0.3355 - accuracy: 0.8629\n",
      "Epoch 74/100\n",
      "250/250 [==============================] - 0s 677us/step - loss: 0.3354 - accuracy: 0.8633\n",
      "Epoch 75/100\n",
      "250/250 [==============================] - 0s 731us/step - loss: 0.3345 - accuracy: 0.8636\n",
      "Epoch 76/100\n",
      "250/250 [==============================] - 0s 668us/step - loss: 0.3357 - accuracy: 0.8610\n",
      "Epoch 77/100\n",
      "250/250 [==============================] - 0s 729us/step - loss: 0.3352 - accuracy: 0.8622\n",
      "Epoch 78/100\n",
      "250/250 [==============================] - 0s 665us/step - loss: 0.3354 - accuracy: 0.8620\n",
      "Epoch 79/100\n"
     ]
    },
    {
     "name": "stdout",
     "output_type": "stream",
     "text": [
      "250/250 [==============================] - 0s 728us/step - loss: 0.3353 - accuracy: 0.8634\n",
      "Epoch 80/100\n",
      "250/250 [==============================] - 0s 670us/step - loss: 0.3357 - accuracy: 0.8614\n",
      "Epoch 81/100\n",
      "250/250 [==============================] - 0s 764us/step - loss: 0.3351 - accuracy: 0.8618\n",
      "Epoch 82/100\n",
      "250/250 [==============================] - 0s 698us/step - loss: 0.3358 - accuracy: 0.8635\n",
      "Epoch 83/100\n",
      "250/250 [==============================] - 0s 672us/step - loss: 0.3355 - accuracy: 0.8621\n",
      "Epoch 84/100\n",
      "250/250 [==============================] - 0s 813us/step - loss: 0.3357 - accuracy: 0.8622\n",
      "Epoch 85/100\n",
      "250/250 [==============================] - 0s 711us/step - loss: 0.3347 - accuracy: 0.8639\n",
      "Epoch 86/100\n",
      "250/250 [==============================] - 0s 661us/step - loss: 0.3356 - accuracy: 0.8612\n",
      "Epoch 87/100\n",
      "250/250 [==============================] - 0s 776us/step - loss: 0.3350 - accuracy: 0.8641\n",
      "Epoch 88/100\n",
      "250/250 [==============================] - 0s 704us/step - loss: 0.3355 - accuracy: 0.8620\n",
      "Epoch 89/100\n",
      "250/250 [==============================] - 0s 646us/step - loss: 0.3351 - accuracy: 0.8608\n",
      "Epoch 90/100\n",
      "250/250 [==============================] - 0s 764us/step - loss: 0.3357 - accuracy: 0.8619\n",
      "Epoch 91/100\n",
      "250/250 [==============================] - 0s 717us/step - loss: 0.3346 - accuracy: 0.8625\n",
      "Epoch 92/100\n",
      "250/250 [==============================] - 0s 707us/step - loss: 0.3350 - accuracy: 0.8629\n",
      "Epoch 93/100\n",
      "250/250 [==============================] - 0s 663us/step - loss: 0.3352 - accuracy: 0.8622\n",
      "Epoch 94/100\n",
      "250/250 [==============================] - 0s 737us/step - loss: 0.3354 - accuracy: 0.8621\n",
      "Epoch 95/100\n",
      "250/250 [==============================] - 0s 743us/step - loss: 0.3348 - accuracy: 0.8626\n",
      "Epoch 96/100\n",
      "250/250 [==============================] - 0s 752us/step - loss: 0.3353 - accuracy: 0.8646\n",
      "Epoch 97/100\n",
      "250/250 [==============================] - 0s 691us/step - loss: 0.3350 - accuracy: 0.8631\n",
      "Epoch 98/100\n",
      "250/250 [==============================] - 0s 742us/step - loss: 0.3350 - accuracy: 0.8631\n",
      "Epoch 99/100\n",
      "250/250 [==============================] - 0s 654us/step - loss: 0.3348 - accuracy: 0.8622\n",
      "Epoch 100/100\n",
      "250/250 [==============================] - 0s 728us/step - loss: 0.3348 - accuracy: 0.8626\n"
     ]
    }
   ],
   "source": [
    "results = ann_model.fit(\n",
    "    X_train, y_train, batch_size=32, epochs=100\n",
    ")"
   ]
  },
  {
   "cell_type": "code",
   "execution_count": 26,
   "id": "bdc90e34",
   "metadata": {},
   "outputs": [
    {
     "data": {
      "text/plain": [
       "[<matplotlib.lines.Line2D at 0x21bb7020a30>]"
      ]
     },
     "execution_count": 26,
     "metadata": {},
     "output_type": "execute_result"
    },
    {
     "data": {
      "image/png": "[encoded data removed]",
      "text/plain": [
       "<Figure size 432x288 with 1 Axes>"
      ]
     },
     "metadata": {
      "needs_background": "light"
     },
     "output_type": "display_data"
    }
   ],
   "source": [
    "import matplotlib.pyplot as plt\n",
    "plt.plot(results.history['accuracy'])"
   ]
  },
  {
   "cell_type": "code",
   "execution_count": 23,
   "id": "c2278a61",
   "metadata": {},
   "outputs": [
    {
     "name": "stdout",
     "output_type": "stream",
     "text": [
      "1/1 [==============================] - 0s 57ms/step\n",
      "[[ True]]\n"
     ]
    }
   ],
   "source": [
    "print(ann_model.predict(sc.transform([[1, 0, 0, 600, 1, 40, 3, 600000, 2, 1, 1, 50000]])) > 0.5)"
   ]
  },
  {
   "cell_type": "code",
   "execution_count": 27,
   "id": "0ad58f5f",
   "metadata": {},
   "outputs": [
    {
     "name": "stdout",
     "output_type": "stream",
     "text": [
      "63/63 [==============================] - 0s 599us/step\n",
      "[[0 0]\n",
      " [0 0]\n",
      " [0 0]\n",
      " ...\n",
      " [0 0]\n",
      " [0 0]\n",
      " [0 0]]\n"
     ]
    }
   ],
   "source": [
    "y_pred = ann_model.predict(X_test)\n",
    "y_pred = (y_pred > 0.5)\n",
    "print(np.concatenate((y_pred.reshape(len(y_pred), 1), y_test.reshape(len(y_test), 1)), 1))"
   ]
  },
  {
   "cell_type": "code",
   "execution_count": 29,
   "id": "3b4ff4e3",
   "metadata": {},
   "outputs": [],
   "source": [
    "from sklearn.metrics import confusion_matrix, accuracy_score"
   ]
  },
  {
   "cell_type": "code",
   "execution_count": 30,
   "id": "e6419ee8",
   "metadata": {
    "scrolled": true
   },
   "outputs": [
    {
     "name": "stdout",
     "output_type": "stream",
     "text": [
      "[[1546   39]\n",
      " [ 236  179]]\n"
     ]
    },
    {
     "data": {
      "text/plain": [
       "0.8625"
      ]
     },
     "execution_count": 30,
     "metadata": {},
     "output_type": "execute_result"
    }
   ],
   "source": [
    "### Making the confusion_matrix(y_test, y_pred)\n",
    "cm = confusion_matrix(y_test, y_pred)\n",
    "print(cm)\n",
    "accuracy_score(y_test, y_pred)\n"
   ]
  },
  {
   "cell_type": "code",
   "execution_count": null,
   "id": "23d6ada6",
   "metadata": {},
   "outputs": [],
   "source": [
    "# from tensorflow.keras.models import Sequential\n",
    "# from tensorflow.keras.layers import Dense\n",
    "# model = Sequentimodel.add(Dense(units=6, activation='relu'))al()\n",
    "\n",
    "# model.add(Dense(units=6, activation='relu'))\n",
    "# model.add(Dense(units=6, activation='sigmoid'))\n",
    "\n",
    "# model.compile(optimizer='adam',loss='binary_crossentropy',metrics = ['accuracy'])\n",
    "\n",
    "# #ann.fit(X_train, y_train, batch_size=32, epochs = 100)\n",
    "# results = model.fit(X_train, y_train, batch_size=32, epochs = 100)"
   ]
  },
  {
   "cell_type": "code",
   "execution_count": null,
   "id": "214e2b5e",
   "metadata": {},
   "outputs": [],
   "source": [
    "# ann = tf.keras.models.Sequential()\n",
    "# ann.add(tf.keras.layers.Dense(\n",
    "#     units=6, \n",
    "#     activation='relu'\n",
    "# ))"
   ]
  },
  {
   "cell_type": "code",
   "execution_count": null,
   "id": "2db594c4",
   "metadata": {},
   "outputs": [],
   "source": [
    "###Compiling  the ANN"
   ]
  },
  {
   "cell_type": "code",
   "execution_count": null,
   "id": "82f0553e",
   "metadata": {},
   "outputs": [],
   "source": [
    "# ann.add(tf.keras.layers.Dense(\n",
    "#     units=6, \n",
    "#     activation='sigmoidalna'\n",
    "# ))"
   ]
  },
  {
   "cell_type": "code",
   "execution_count": null,
   "id": "6d7245b6",
   "metadata": {},
   "outputs": [],
   "source": [
    "# ann.compile(optimizer='adam',\n",
    "#            loss='binary_crossentropy',\n",
    "#            metrycs = ['accuracy'])"
   ]
  },
  {
   "cell_type": "code",
   "execution_count": null,
   "id": "697ef850",
   "metadata": {},
   "outputs": [],
   "source": [
    "###Training the ANN on the TRAIN set"
   ]
  },
  {
   "cell_type": "code",
   "execution_count": null,
   "id": "57982466",
   "metadata": {},
   "outputs": [],
   "source": [
    "# #ann.fit(X_train, y_train, batch_size=32, epochs = 100)\n",
    "# results = ann.fit(X_train, y_train, batch_size=32, epochs = 100)\n"
   ]
  },
  {
   "cell_type": "code",
   "execution_count": null,
   "id": "496e73c8",
   "metadata": {},
   "outputs": [],
   "source": [
    "# ann.summary()"
   ]
  }
 ],
 "metadata": {
  "kernelspec": {
   "display_name": "Python 3 (ipykernel)",
   "language": "python",
   "name": "python3"
  },
  "language_info": {
   "codemirror_mode": {
    "name": "ipython",
    "version": 3
   },
   "file_extension": ".py",
   "mimetype": "text/x-python",
   "name": "python",
   "nbconvert_exporter": "python",
   "pygments_lexer": "ipython3",
   "version": "3.9.7"
  }
 },
 "nbformat": 4,
 "nbformat_minor": 5
}
