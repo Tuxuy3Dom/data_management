{
 "cells": [
  {
   "cell_type": "code",
   "execution_count": null,
   "metadata": {},
   "outputs": [],
   "source": [
    "# Import the pandas library\n",
    "import pandas as pd\n",
    "# Import the folium library\n",
    "import folium\n",
    " \n",
    "# Przydatna informacja\n",
    "# https://www.python-graph-gallery.com/312-add-markers-on-folium-map\n",
    "\n",
    "data = pd.read_csv('Volcanoes.txt')\n",
    "\n",
    "map = folium.Map(location = [50.05, 21.95],tiles=\"OpenStreetMap\", zoom_start = 4)\n",
    "\n",
    "lat = list(data[\"LAT\"])\n",
    "lot = list(data[\"LON\"])\n",
    "elev = list(data[\"ELEV\"])\n",
    "name = list(data[\"NAME\"])\n",
    "\n",
    "# Function change color in points for heigth volcans\n",
    "def set_color(elev):\n",
    "    if elev < 2000:\n",
    "        return \"green\"\n",
    "    elif elev < 3000:\n",
    "        return \"orange\"\n",
    "    else: \n",
    "        return \"red\"\n",
    "\n",
    "for lt, ln, el, nm in zip(lat, lot, elev, name):\n",
    "    html=f\"\"\"\n",
    "        <h2> Imię wulkanu: \"{nm}\"<h2>\n",
    "        <p> Informacja dodatkowa: {el} m. </p>\n",
    "        \"\"\"\n",
    "    iframe = folium.IFrame(html=html, width=200, height=200)\n",
    "    popup = folium.Popup(iframe, max_width=2650)\n",
    "    map.add_child(folium.Marker(location = [lt, ln], tooltip = nm, popup = popup, \n",
    "                                icon = folium.Icon(color = set_color(el))))\n",
    "\n",
    "map.save(\"labTwo.html\")\n",
    "map"
   ]
  }
 ],
 "metadata": {
  "language_info": {
   "name": "python"
  },
  "orig_nbformat": 4
 },
 "nbformat": 4,
 "nbformat_minor": 2
}
