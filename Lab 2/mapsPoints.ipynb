{
 "cells": [
  {
   "cell_type": "code",
   "execution_count": null,
   "metadata": {},
   "outputs": [],
   "source": [
    "# Import the pandas library\n",
    "import pandas as pd\n",
    "# Import the folium library\n",
    "import folium \n",
    "\n",
    "data = pd.read_csv('Volcanoes.txt')\n",
    "\n",
    "map = folium.Map(location = [50.05, 21.95],tiles=\"OpenStreetMap\", zoom_start = 4)\n",
    "\n",
    "lat = list(data[\"LAT\"])\n",
    "lot = list(data[\"LON\"])\n",
    "\n",
    "our_location = zip(lat, lot)\n",
    "\n",
    "for item in our_location:\n",
    "    map.add_child(folium.Marker(location = item, popup=\"Marker\", icon = folium.Icon(color = \"red\")))\n",
    "\n",
    "map.save(\"labTwo.html\")\n",
    "map"
   ]
  }
 ],
 "metadata": {
  "kernelspec": {
   "display_name": "Python 3.10.7 64-bit",
   "language": "python",
   "name": "python3"
  },
  "language_info": {
   "name": "python",
   "version": "3.10.7"
  },
  "orig_nbformat": 4,
  "vscode": {
   "interpreter": {
    "hash": "26de051ba29f2982a8de78e945f0abaf191376122a1563185a90213a26c5da77"
   }
  }
 },
 "nbformat": 4,
 "nbformat_minor": 2
}
